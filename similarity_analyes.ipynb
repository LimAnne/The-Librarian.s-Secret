{
 "cells": [
  {
   "cell_type": "markdown",
   "metadata": {},
   "source": [
    "## Similarity Analysis\n",
    "\n",
    "We know that Pratchett's style of writing has a distinct tone - witty, satirical and rich in metaphor.\n",
    "\n",
    "How can we measure if our chatbot's outputs will be able to mimic Pratchett's style of writing?\n",
    "\n",
    "The following analysis is an attempt to study if using sentence embeddings can be used to differentiate between Pratchett's texts and a randomly generated version from an LLM.\n",
    "\n",
    "For this purpose, we will use Huggingface's sentence-transformers model 'all-MiniLM-L6-v2' to generate the sentence embeddings.\n",
    "\n",
    "There are a number of anomaly detection methods that can identify segments that deviate from the norm, and these include Isolation Forest, One-Class SVM, and Autoencoders.\n",
    "\n",
    "We will try using the autoencoder method first, as it is a deep learning technique that may be able to pick up the fine-grained nuances or patterns in Pratchett's original text. (This is also a challenge that I would like to take on, using deep learning)\n",
    "\n",
    "### Proposed Methodology:\n",
    "\n",
    "#### Training Phase (Learning Pratchett’s Style)\n",
    "\n",
    "- The autoencoder is trained on only Pratchett-style embeddings.\n",
    "- It learns to reconstruct these embeddings.\n",
    "\n",
    "#### Inference Phase (Checking Chatbot Outputs)\n",
    "- Pass a chatbot response through the autoencoder.\n",
    "- Compute reconstruction error (difference between input and reconstructed output)\n",
    "\n",
    "\n"
   ]
  },
  {
   "cell_type": "code",
   "execution_count": 27,
   "metadata": {},
   "outputs": [
    {
     "data": {
      "text/plain": [
       "<module 'utils.utils' from 'c:\\\\Users\\\\Liman\\\\Downloads\\\\ask_terry\\\\utils\\\\utils.py'>"
      ]
     },
     "execution_count": 27,
     "metadata": {},
     "output_type": "execute_result"
    }
   ],
   "source": [
    "import importlib\n",
    "import utils.utils\n",
    "importlib.reload(utils.utils)"
   ]
  },
  {
   "cell_type": "code",
   "execution_count": null,
   "metadata": {},
   "outputs": [],
   "source": [
    "import numpy as np\n",
    "import tensorflow as tf\n",
    "from tensorflow.keras.models import Sequential\n",
    "from tensorflow.keras.layers import Dense\n",
    "from sentence_transformers import SentenceTransformer\n",
    "from sklearn.model_selection import train_test_split\n",
    "from sklearn.metrics import mean_squared_error\n",
    "import fitz\n",
    "import os\n",
    "from utils.utils import extract_text_from_pdfs, clean_text\n",
    "from sklearn.metrics import mean_squared_error\n",
    "import re"
   ]
  },
  {
   "cell_type": "code",
   "execution_count": 10,
   "metadata": {},
   "outputs": [
    {
     "name": "stdout",
     "output_type": "stream",
     "text": [
      "Extracting text from: 09-eric.pdf\n",
      "Extracting text from: Light Fantastic.pdf\n",
      "Extracting text from: sourcery.pdf\n",
      "Extracting text from: The-Colour-of-Magic.pdf\n",
      "Extracting text from: the_last_hero.pdf\n",
      "✅ PDF text extraction complete!\n"
     ]
    }
   ],
   "source": [
    "pratchett_text = extract_text_from_pdfs(\"./books\")\n",
    "\n",
    "# Save to a text file (for later analysis)\n",
    "with open(\"pratchett_text.txt\", \"w\", encoding=\"utf-8\") as f:\n",
    "    f.write(pratchett_text)\n",
    "\n",
    "print(\"✅ PDF text extraction complete!\")"
   ]
  },
  {
   "cell_type": "code",
   "execution_count": 29,
   "metadata": {},
   "outputs": [
    {
     "name": "stdout",
     "output_type": "stream",
     "text": [
      "✅ Text cleaning complete!\n"
     ]
    }
   ],
   "source": [
    "cleaned_text = clean_text(pratchett_text)\n",
    "\n",
    "# Save cleaned text\n",
    "with open(\"cleaned_pratchett_text.txt\", \"w\", encoding=\"utf-8\") as f:\n",
    "    f.write(cleaned_text)\n",
    "\n",
    "print(\"✅ Text cleaning complete!\")"
   ]
  },
  {
   "cell_type": "code",
   "execution_count": 30,
   "metadata": {},
   "outputs": [],
   "source": [
    "# Load pre-trained SBERT model for sentence embeddings\n",
    "sbert_model = SentenceTransformer('paraphrase-MiniLM-L6-v2')"
   ]
  },
  {
   "cell_type": "code",
   "execution_count": null,
   "metadata": {},
   "outputs": [
    {
     "name": "stdout",
     "output_type": "stream",
     "text": [
      "✅ Converted 24141 sentences into embeddings.\n"
     ]
    }
   ],
   "source": [
    "# Split text into sentences\n",
    "sentences = re.split(r'(?<=[.!?])\\s+', cleaned_text)  # Splitting on punctuation\n",
    "\n",
    "# Convert sentences to embeddings\n",
    "sentence_embeddings = sbert_model.encode(sentences)\n",
    "\n",
    "print(f\"✅ Converted {len(sentences)} sentences into embeddings.\")\n"
   ]
  },
  {
   "cell_type": "code",
   "execution_count": 33,
   "metadata": {},
   "outputs": [],
   "source": [
    "# Convert embeddings to NumPy array\n",
    "X = np.array(sentence_embeddings)\n",
    "\n",
    "# Train-test split\n",
    "X_train, X_test = train_test_split(X, test_size=0.2, random_state=42)"
   ]
  },
  {
   "cell_type": "code",
   "execution_count": null,
   "metadata": {},
   "outputs": [],
   "source": [
    "# Define Autoencoder Model\n",
    "autoencoder = Sequential([\n",
    "    Dense(128, activation='relu', input_shape=(384,)),  # Encoder\n",
    "    Dense(64, activation='relu'),  # Latent space (bottleneck)\n",
    "    Dense(128, activation='relu'),  # Decoder\n",
    "    Dense(384, activation='sigmoid')  # Output layer (same size as input)\n",
    "])\n",
    "\n",
    "# Compile model\n",
    "autoencoder.compile(optimizer='adam', loss='mse')\n",
    "\n",
    "# Train the autoencoder\n",
    "print(\"🚀 Training autoencoder on Pratchett's text...\")\n",
    "autoencoder.fit(X_train, X_train, epochs=50, batch_size=8, validation_data=(X_test, X_test), verbose=1)\n",
    "\n",
    "# Save trained model\n",
    "autoencoder.save(\"pratchett_autoencoder.keras\") \n",
    "print(\"✅ Training complete. Model saved!\")"
   ]
  },
  {
   "cell_type": "markdown",
   "metadata": {},
   "source": [
    "### Testing the model's accuracy\n",
    "\n",
    "Now that we have built the model, we will test it with some texts to see if the model is able to detect the anomalies that are out of character.\n",
    "\n",
    "- test single sentences\n",
    "- test paragraphs\n",
    "- test quote from other authors' books\n",
    "- self-written paragraph\n",
    "\n",
    "Note that this method is just a quick verification. \n",
    "\n",
    "A more scientific method would be of a greater scale, which we may not explore for now.\n"
   ]
  },
  {
   "cell_type": "code",
   "execution_count": 70,
   "metadata": {},
   "outputs": [
    {
     "name": "stdout",
     "output_type": "stream",
     "text": [
      "\n",
      "🔍 Running anomaly detection on chatbot responses...\n",
      "\n",
      "\u001b[1m1/1\u001b[0m \u001b[32m━━━━━━━━━━━━━━━━━━━━\u001b[0m\u001b[37m\u001b[0m \u001b[1m0s\u001b[0m 65ms/step\n",
      "🚨 Anomaly detected! (Error: 0.07160) 👉 'The sun shone brightly over the AI-powered kingdom.'\n",
      "_________________________________________________________\n",
      "\u001b[1m1/1\u001b[0m \u001b[32m━━━━━━━━━━━━━━━━━━━━\u001b[0m\u001b[37m\u001b[0m \u001b[1m0s\u001b[0m 35ms/step\n",
      "✅ Sentence is in-character. (Error: 0.04077) 👉 'I DON’T FORGET THINGS, said Death. I SIMPLY DO NOT BOTHER TO REMEMBER THEM.'\n",
      "_________________________________________________________\n",
      "\u001b[1m1/1\u001b[0m \u001b[32m━━━━━━━━━━━━━━━━━━━━\u001b[0m\u001b[37m\u001b[0m \u001b[1m0s\u001b[0m 34ms/step\n",
      "🚨 Anomaly detected! (Error: 0.05700) 👉 'Science is best understood by those who don't try to understand it.'\n",
      "_________________________________________________________\n",
      "\u001b[1m1/1\u001b[0m \u001b[32m━━━━━━━━━━━━━━━━━━━━\u001b[0m\u001b[37m\u001b[0m \u001b[1m0s\u001b[0m 50ms/step\n",
      "✅ Sentence is in-character. (Error: 0.04107) 👉 'DON'T THINK OF IT AS DYING, said Death. JUST THINK OF IT AS LEAVING EARLY TO AVOID THE RUSH.'\n",
      "_________________________________________________________\n",
      "\u001b[1m1/1\u001b[0m \u001b[32m━━━━━━━━━━━━━━━━━━━━\u001b[0m\u001b[37m\u001b[0m \u001b[1m0s\u001b[0m 37ms/step\n",
      "🚨 Anomaly detected! (Error: 0.06211) 👉 'The universe was vast, uncaring, and mildly annoyed by paperwork.'\n",
      "_________________________________________________________\n",
      "\u001b[1m1/1\u001b[0m \u001b[32m━━━━━━━━━━━━━━━━━━━━\u001b[0m\u001b[37m\u001b[0m \u001b[1m0s\u001b[0m 34ms/step\n",
      "✅ Sentence is in-character. (Error: 0.03502) 👉 'A wisp of wind blew for a moment through the orchard, and that was the most uncanny thing, because the air in the land of Death is always warm and still.'\n",
      "_________________________________________________________\n",
      "\u001b[1m1/1\u001b[0m \u001b[32m━━━━━━━━━━━━━━━━━━━━\u001b[0m\u001b[37m\u001b[0m \u001b[1m0s\u001b[0m 38ms/step\n",
      "🚨 Anomaly detected! (Error: 0.05580) 👉 'Discworld is a flat, disc-shaped world balanced on the backs of four giant elephants, which stand atop the enormous celestial turtle, Great A'Tuin, as it swims through space.'\n",
      "_________________________________________________________\n"
     ]
    }
   ],
   "source": [
    "# Load trained model\n",
    "autoencoder = tf.keras.models.load_model(\"pratchett_autoencoder.keras\")\n",
    "\n",
    "def detect_anomaly(sentence, threshold=0.05):\n",
    "    \"\"\" Detects if a sentence is an anomaly (out-of-character for Pratchett) \"\"\"\n",
    "    embedding = np.array(sbert_model.encode([sentence]))  # Convert to embedding\n",
    "    reconstructed = autoencoder.predict(embedding)  # Reconstruct using the model\n",
    "    \n",
    "    # Compute reconstruction error\n",
    "    error = mean_squared_error(embedding, reconstructed)\n",
    "    \n",
    "    if error > threshold:\n",
    "        print(f\"🚨 Anomaly detected! (Error: {error:.5f}) 👉 '{sentence}'\")\n",
    "        print(\"_________________________________________________________\")\n",
    "        return True\n",
    "    else:\n",
    "        print(f\"✅ Sentence is in-character. (Error: {error:.5f}) 👉 '{sentence}'\")\n",
    "        print(\"_________________________________________________________\")    \n",
    "\n",
    "# === Test Sentences ===\n",
    "test_sentences = [\n",
    "    \"The sun shone brightly over the AI-powered kingdom.\",  # Likely an anomaly\n",
    "    \"I DON’T FORGET THINGS, said Death. I SIMPLY DO NOT BOTHER TO REMEMBER THEM.\",  # Generated. Should match Pratchett-style\n",
    "    \"Science is best understood by those who don't try to understand it.\",  # Generated. Should match Pratchett-style\n",
    "    \"DON'T THINK OF IT AS DYING, said Death. JUST THINK OF IT AS LEAVING EARLY TO AVOID THE RUSH.\", # original text\n",
    "    \"The universe was vast, uncaring, and mildly annoyed by paperwork.\",\n",
    "    \"A wisp of wind blew for a moment through the orchard, and that was the most uncanny thing, because the air in the land of Death is always warm and still.\", # original text\n",
    "    \"Discworld is a flat, disc-shaped world balanced on the backs of four giant elephants, which stand atop the enormous celestial turtle, Great A'Tuin, as it swims through space.\" # generated text, non-Pratchett style\n",
    "    ]\n",
    "\n",
    "print(\"\\n🔍 Running anomaly detection on chatbot responses...\\n\")\n",
    "for sentence in test_sentences:\n",
    "    detect_anomaly(sentence)"
   ]
  },
  {
   "cell_type": "markdown",
   "metadata": {},
   "source": [
    "From the above, 5 out of 7 sentences were predicted correctly.\n",
    "\n",
    "The sentences 'Science is best understood by those who don't try to understand it.' and 'The universe was vast, uncaring, and mildly annoyed by paperwork.' are AI-generated and seem Pratchett-like to the knowing human eye, but are predicted to be anomalies.\n",
    "\n",
    "From preliminary observation, context-length might be a factor that influences the model's prediction, as the sentences that are predicted to be anomalies are the **shortest ones in the list**.\n",
    "'"
   ]
  },
  {
   "cell_type": "code",
   "execution_count": null,
   "metadata": {},
   "outputs": [],
   "source": [
    "# Test generated paragraph similar to Pratchett's style\n",
    "paragraph = [\n",
    "    \"Rincewind, in a fit of rare optimism, once attempted to teach the Luggage to play fetch. Armed with a sturdy stick and an exit strategy, he cautiously tossed the stick a short distance away. The Luggage remained still. Rincewind took a step backward. The Luggage took a step forward. Several seconds passed in tense silence. Then, without warning, the stick disappeared—not because The Luggage fetched it, but because reality, sensing what might happen if it did not cooperate, decided it was best if the stick had never existed at all. Rincewind, wisely, abandoned the experiment and spent the rest of the afternoon hiding behind a particularly large boulder.\"\n",
    "    ]"
   ]
  },
  {
   "cell_type": "code",
   "execution_count": 49,
   "metadata": {},
   "outputs": [
    {
     "name": "stdout",
     "output_type": "stream",
     "text": [
      "\u001b[1m1/1\u001b[0m \u001b[32m━━━━━━━━━━━━━━━━━━━━\u001b[0m\u001b[37m\u001b[0m \u001b[1m0s\u001b[0m 34ms/step\n",
      "✅ Sentence is in-character. (Error: 0.03316) 👉 'Rincewind, in a fit of rare optimism, once attempted to teach the Luggage to play fetch. Armed with a sturdy stick and an exit strategy, he cautiously tossed the stick a short distance away. The Luggage remained still. Rincewind took a step backward. The Luggage took a step forward. Several seconds passed in tense silence. Then, without warning, the stick disappeared—not because The Luggage fetched it, but because reality, sensing what might happen if it did not cooperate, decided it was best if the stick had never existed at all. Rincewind, wisely, abandoned the experiment and spent the rest of the afternoon hiding behind a particularly large boulder.'\n"
     ]
    },
    {
     "data": {
      "text/plain": [
       "False"
      ]
     },
     "execution_count": 49,
     "metadata": {},
     "output_type": "execute_result"
    }
   ],
   "source": [
    "detect_anomaly(paragraph[0])"
   ]
  },
  {
   "cell_type": "code",
   "execution_count": null,
   "metadata": {},
   "outputs": [],
   "source": [
    "john_grisham_quote = [\n",
    "    \"It's amazing how lies grow. You start with a small one that seems easy to cover, then you get boxed in and tell another one. Then another. People believe you at first, then they act upon your lies, and you catch yourself wishing you'd simply told the truth.\"\n",
    "]"
   ]
  },
  {
   "cell_type": "code",
   "execution_count": null,
   "metadata": {},
   "outputs": [
    {
     "name": "stdout",
     "output_type": "stream",
     "text": [
      "\u001b[1m1/1\u001b[0m \u001b[32m━━━━━━━━━━━━━━━━━━━━\u001b[0m\u001b[37m\u001b[0m \u001b[1m0s\u001b[0m 37ms/step\n",
      "✅ Sentence is in-character. (Error: 0.03730) 👉 'It's amazing how lies grow. You start with a small one that seems easy to cover, then you get boxed in and tell another one. Then another. People believe you at first, then they act upon your lies, and you catch yourself wishing you'd simply told the truth.'\n",
      "_________________________________________________________\n"
     ]
    }
   ],
   "source": [
    "detect_anomaly(john_grisham_quote[0])"
   ]
  },
  {
   "cell_type": "code",
   "execution_count": null,
   "metadata": {},
   "outputs": [],
   "source": [
    "# Test self-written paragraph\n",
    "serious_style = [\n",
    "    \"I thought to myself, what is the meaning of life? Do I exist for a reason? I pondered about whether God was real and whether making a difference even mattered. I sighed, and looked over to my brother. He was munching on a sandwich. 'What do you think about the meaning of life?' I asked him. He continued muching and said noncommittally, 'Being able to eat this sandwich.' Hmm, I thought to myself. Fair enough.\"\n",
    "]"
   ]
  },
  {
   "cell_type": "code",
   "execution_count": 66,
   "metadata": {},
   "outputs": [
    {
     "name": "stdout",
     "output_type": "stream",
     "text": [
      "\u001b[1m1/1\u001b[0m \u001b[32m━━━━━━━━━━━━━━━━━━━━\u001b[0m\u001b[37m\u001b[0m \u001b[1m0s\u001b[0m 44ms/step\n",
      "✅ Sentence is in-character. (Error: 0.04054) 👉 'I thought to myself, what is the meaning of life? Do I exist for a reason? I pondered about whether God was real and whether making a difference even mattered. I sighed, and looked over to my brother. He was munching on a sandwich. 'What do you think about the meaning of life?' I asked him. He continued muching and said noncommittally, 'Being able to eat this sandwich.' Hmm, I thought to myself. Fair enough.'\n",
      "_________________________________________________________\n"
     ]
    }
   ],
   "source": [
    "detect_anomaly(serious_style[0])"
   ]
  },
  {
   "cell_type": "code",
   "execution_count": null,
   "metadata": {},
   "outputs": [],
   "source": [
    "# Test self-written paragraph that is shorter than previous paragraph\n",
    "serious_style_2 = [\n",
    "    \"I thought to myself, what is the meaning of life? Do I exist for a reason? I pondered about whether God was real and whether making a difference even mattered.\"\n",
    "]"
   ]
  },
  {
   "cell_type": "code",
   "execution_count": 68,
   "metadata": {},
   "outputs": [
    {
     "name": "stdout",
     "output_type": "stream",
     "text": [
      "\u001b[1m1/1\u001b[0m \u001b[32m━━━━━━━━━━━━━━━━━━━━\u001b[0m\u001b[37m\u001b[0m \u001b[1m0s\u001b[0m 38ms/step\n",
      "🚨 Anomaly detected! (Error: 0.05133) 👉 'I thought to myself, what is the meaning of life? Do I exist for a reason? I pondered about whether God was real and whether making a difference even mattered.'\n",
      "_________________________________________________________\n"
     ]
    },
    {
     "data": {
      "text/plain": [
       "True"
      ]
     },
     "execution_count": 68,
     "metadata": {},
     "output_type": "execute_result"
    }
   ],
   "source": [
    "detect_anomaly(serious_style_2[0])"
   ]
  },
  {
   "cell_type": "code",
   "execution_count": null,
   "metadata": {},
   "outputs": [],
   "source": []
  }
 ],
 "metadata": {
  "kernelspec": {
   "display_name": "anne_env",
   "language": "python",
   "name": "python3"
  },
  "language_info": {
   "codemirror_mode": {
    "name": "ipython",
    "version": 3
   },
   "file_extension": ".py",
   "mimetype": "text/x-python",
   "name": "python",
   "nbconvert_exporter": "python",
   "pygments_lexer": "ipython3",
   "version": "3.10.16"
  }
 },
 "nbformat": 4,
 "nbformat_minor": 2
}
